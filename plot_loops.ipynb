{
 "cells": [
  {
   "cell_type": "code",
   "execution_count": 1,
   "metadata": {
    "collapsed": false
   },
   "outputs": [],
   "source": [
    "import numpy as np\n",
    "import pandas as pd\n",
    "import matplotlib.pyplot as plt\n",
    "import seaborn as sns\n",
    "sns.set()\n",
    "sns.set_style('whitegrid')\n",
    "\n",
    "\n"
   ]
  },
  {
   "cell_type": "code",
   "execution_count": 97,
   "metadata": {
    "collapsed": false
   },
   "outputs": [],
   "source": [
    "data =pd.read_csv(\"loop_data.txt\", sep=\"\\t\")\n"
   ]
  },
  {
   "cell_type": "code",
   "execution_count": 6,
   "metadata": {
    "collapsed": false
   },
   "outputs": [],
   "source": [
    "data.columns = [1.1, 1.2, 2.1, 2.2, 3.1, 3.2, 4.1, 4.2 , 5.1, 5.2, 6.1, 6.2 ,7.1, 7.2]"
   ]
  },
  {
   "cell_type": "code",
   "execution_count": 7,
   "metadata": {
    "collapsed": false
   },
   "outputs": [
    {
     "data": {
      "text/html": [
       "<div>\n",
       "<table border=\"1\" class=\"dataframe\">\n",
       "  <thead>\n",
       "    <tr style=\"text-align: right;\">\n",
       "      <th></th>\n",
       "      <th>1.1</th>\n",
       "      <th>1.2</th>\n",
       "      <th>2.1</th>\n",
       "      <th>2.2</th>\n",
       "      <th>3.1</th>\n",
       "      <th>3.2</th>\n",
       "      <th>4.1</th>\n",
       "      <th>4.2</th>\n",
       "      <th>5.1</th>\n",
       "      <th>5.2</th>\n",
       "      <th>6.1</th>\n",
       "      <th>6.2</th>\n",
       "      <th>7.1</th>\n",
       "      <th>7.2</th>\n",
       "    </tr>\n",
       "  </thead>\n",
       "  <tbody>\n",
       "    <tr>\n",
       "      <th>0</th>\n",
       "      <td>4.050</td>\n",
       "      <td>0.100</td>\n",
       "      <td>3.680</td>\n",
       "      <td>0.150</td>\n",
       "      <td>3.590</td>\n",
       "      <td>0.059</td>\n",
       "      <td>3.3850</td>\n",
       "      <td>0.0310</td>\n",
       "      <td>3.532</td>\n",
       "      <td>0.0430</td>\n",
       "      <td>3.397</td>\n",
       "      <td>0.032</td>\n",
       "      <td>3.402</td>\n",
       "      <td>0.048</td>\n",
       "    </tr>\n",
       "    <tr>\n",
       "      <th>1</th>\n",
       "      <td>4.082</td>\n",
       "      <td>0.068</td>\n",
       "      <td>3.900</td>\n",
       "      <td>0.260</td>\n",
       "      <td>3.640</td>\n",
       "      <td>0.055</td>\n",
       "      <td>3.3844</td>\n",
       "      <td>0.0089</td>\n",
       "      <td>3.564</td>\n",
       "      <td>0.0097</td>\n",
       "      <td>3.390</td>\n",
       "      <td>0.034</td>\n",
       "      <td>3.420</td>\n",
       "      <td>0.016</td>\n",
       "    </tr>\n",
       "    <tr>\n",
       "      <th>2</th>\n",
       "      <td>4.350</td>\n",
       "      <td>0.150</td>\n",
       "      <td>3.650</td>\n",
       "      <td>0.035</td>\n",
       "      <td>3.650</td>\n",
       "      <td>0.015</td>\n",
       "      <td>3.5690</td>\n",
       "      <td>0.1100</td>\n",
       "      <td>3.599</td>\n",
       "      <td>0.0780</td>\n",
       "      <td>3.350</td>\n",
       "      <td>0.036</td>\n",
       "      <td>3.430</td>\n",
       "      <td>0.020</td>\n",
       "    </tr>\n",
       "    <tr>\n",
       "      <th>3</th>\n",
       "      <td>4.086</td>\n",
       "      <td>0.026</td>\n",
       "      <td>3.820</td>\n",
       "      <td>0.068</td>\n",
       "      <td>3.623</td>\n",
       "      <td>0.044</td>\n",
       "      <td>3.5110</td>\n",
       "      <td>0.0320</td>\n",
       "      <td>3.554</td>\n",
       "      <td>0.0240</td>\n",
       "      <td>3.410</td>\n",
       "      <td>0.026</td>\n",
       "      <td>3.418</td>\n",
       "      <td>0.018</td>\n",
       "    </tr>\n",
       "    <tr>\n",
       "      <th>4</th>\n",
       "      <td>4.250</td>\n",
       "      <td>0.100</td>\n",
       "      <td>3.721</td>\n",
       "      <td>0.100</td>\n",
       "      <td>3.613</td>\n",
       "      <td>0.041</td>\n",
       "      <td>3.5090</td>\n",
       "      <td>0.0280</td>\n",
       "      <td>3.554</td>\n",
       "      <td>0.0360</td>\n",
       "      <td>3.430</td>\n",
       "      <td>0.019</td>\n",
       "      <td>3.390</td>\n",
       "      <td>0.014</td>\n",
       "    </tr>\n",
       "  </tbody>\n",
       "</table>\n",
       "</div>"
      ],
      "text/plain": [
       "     1.1    1.2    2.1    2.2    3.1    3.2     4.1     4.2    5.1     5.2  \\\n",
       "0  4.050  0.100  3.680  0.150  3.590  0.059  3.3850  0.0310  3.532  0.0430   \n",
       "1  4.082  0.068  3.900  0.260  3.640  0.055  3.3844  0.0089  3.564  0.0097   \n",
       "2  4.350  0.150  3.650  0.035  3.650  0.015  3.5690  0.1100  3.599  0.0780   \n",
       "3  4.086  0.026  3.820  0.068  3.623  0.044  3.5110  0.0320  3.554  0.0240   \n",
       "4  4.250  0.100  3.721  0.100  3.613  0.041  3.5090  0.0280  3.554  0.0360   \n",
       "\n",
       "     6.1    6.2    7.1    7.2  \n",
       "0  3.397  0.032  3.402  0.048  \n",
       "1  3.390  0.034  3.420  0.016  \n",
       "2  3.350  0.036  3.430  0.020  \n",
       "3  3.410  0.026  3.418  0.018  \n",
       "4  3.430  0.019  3.390  0.014  "
      ]
     },
     "execution_count": 7,
     "metadata": {},
     "output_type": "execute_result"
    }
   ],
   "source": [
    "data"
   ]
  },
  {
   "cell_type": "code",
   "execution_count": 13,
   "metadata": {
    "collapsed": false
   },
   "outputs": [],
   "source": [
    "data_mean = data[[1.1, 2.1, 3.1, 4.1, 5.1, 6.1, 7.1]]\n",
    "data_var = data[[1.2, 2.2, 3.2, 4.2, 5.2, 6.2, 7.2]]\n",
    "\n",
    "X= [1,2,3,4,5,6,7]\n"
   ]
  },
  {
   "cell_type": "code",
   "execution_count": 48,
   "metadata": {
    "collapsed": false
   },
   "outputs": [],
   "source": [
    "min_time = data_mean.min()"
   ]
  },
  {
   "cell_type": "code",
   "execution_count": 60,
   "metadata": {
    "collapsed": false
   },
   "outputs": [],
   "source": [
    "min_time[6.1]=3.40"
   ]
  },
  {
   "cell_type": "code",
   "execution_count": 61,
   "metadata": {
    "collapsed": true
   },
   "outputs": [],
   "source": [
    "min_time_err = data_var.loc[0]"
   ]
  },
  {
   "cell_type": "code",
   "execution_count": 63,
   "metadata": {
    "collapsed": false
   },
   "outputs": [],
   "source": [
    "min_time_err[6.2]=0.045"
   ]
  },
  {
   "cell_type": "code",
   "execution_count": 64,
   "metadata": {
    "collapsed": false
   },
   "outputs": [],
   "source": [
    "O1 = data_mean.loc[0]\n",
    "O1_err = data_var.loc[0]\n",
    "O2 = data_mean.loc[1]\n",
    "O2_err = data_var.loc[1]\n",
    "O3 = data_mean.loc[2]\n",
    "O3_err = data_var.loc[2]\n",
    "O3math = data_mean.loc[3]\n",
    "O3math_err = data_var.loc[3]\n",
    "O3native = data_mean.loc[4]\n",
    "Onative_err = data_var.loc[4]"
   ]
  },
  {
   "cell_type": "code",
   "execution_count": 26,
   "metadata": {
    "collapsed": false
   },
   "outputs": [],
   "source": [
    "%matplotlib inline"
   ]
  },
  {
   "cell_type": "code",
   "execution_count": 70,
   "metadata": {
    "collapsed": false
   },
   "outputs": [
    {
     "data": {
      "image/png": "[encoded data removed]",
      "text/plain": [
       "<matplotlib.figure.Figure at 0x116fbb990>"
      ]
     },
     "metadata": {},
     "output_type": "display_data"
    }
   ],
   "source": [
    "# Defining the figure and figure size\n",
    "fig, ax = plt.subplots(figsize=(10, 6))\n",
    "\n",
    "# Parameters that are same for both lines,\n",
    "# in the form of a dictionary\n",
    "kwargs = dict(ecolor='k', color='k', capsize=2,\n",
    "              elinewidth=1.1, linewidth=0.6, ms=7)\n",
    "\n",
    "# Plotting two data sets with the error bars\n",
    "ax.errorbar(X, min_time, yerr=min_time_err, fmt='-o', mfc='r',ecolor='k', color='k', capsize=2,\n",
    "              elinewidth=1.1, linewidth=0.6, ms=7, label='min')\n",
    "\n",
    "\n",
    "# Adding legend to the plot    \n",
    "ax.legend(loc='best', frameon=True)\n",
    "\n",
    "# Adding plotting parameters\n",
    "ax.set_title('Unroll factor for different flags', fontsize=14)\n",
    "ax.set_xlabel('unroll factor', fontsize=12)\n",
    "ax.set_ylabel('Minimum time for different Opt flags', fontsize=12)\n",
    "ax.set_xlim(0.5, 7.5)\n",
    "ax.set_ylim(3, 5);\n",
    "\n",
    "plt.savefig(\"loop_unroll.png\")"
   ]
  },
  {
   "cell_type": "code",
   "execution_count": 2,
   "metadata": {
    "collapsed": false
   },
   "outputs": [],
   "source": [
    "data =pd.read_csv(\"blocksz_data.txt\", sep=\"\\t\")"
   ]
  },
  {
   "cell_type": "code",
   "execution_count": null,
   "metadata": {
    "collapsed": false
   },
   "outputs": [],
   "source": []
  },
  {
   "cell_type": "code",
   "execution_count": 3,
   "metadata": {
    "collapsed": false
   },
   "outputs": [],
   "source": [
    "data_mean = data[[\"4\",\"8\",\"16\",\"32\",\"100\",\"200\"]]"
   ]
  },
  {
   "cell_type": "code",
   "execution_count": 4,
   "metadata": {
    "collapsed": false
   },
   "outputs": [
    {
     "data": {
      "text/plain": [
       "4      7.86\n",
       "8      7.77\n",
       "16     6.23\n",
       "32     6.97\n",
       "100    6.36\n",
       "200    6.25\n",
       "dtype: float64"
      ]
     },
     "execution_count": 4,
     "metadata": {},
     "output_type": "execute_result"
    }
   ],
   "source": [
    "min_time =data_mean.min()\n",
    "min_time\n"
   ]
  },
  {
   "cell_type": "code",
   "execution_count": 5,
   "metadata": {
    "collapsed": false
   },
   "outputs": [
    {
     "data": {
      "text/plain": [
       "4      4\n",
       "8      5\n",
       "16     4\n",
       "32     4\n",
       "100    2\n",
       "200    3\n",
       "dtype: int64"
      ]
     },
     "execution_count": 5,
     "metadata": {},
     "output_type": "execute_result"
    }
   ],
   "source": [
    "data_mean.idxmin()"
   ]
  },
  {
   "cell_type": "code",
   "execution_count": 6,
   "metadata": {
    "collapsed": false
   },
   "outputs": [
    {
     "data": {
      "text/html": [
       "<div>\n",
       "<table border=\"1\" class=\"dataframe\">\n",
       "  <thead>\n",
       "    <tr style=\"text-align: right;\">\n",
       "      <th></th>\n",
       "      <th>4</th>\n",
       "      <th>4var</th>\n",
       "      <th>8</th>\n",
       "      <th>8var</th>\n",
       "      <th>16</th>\n",
       "      <th>16var</th>\n",
       "      <th>32</th>\n",
       "      <th>32var</th>\n",
       "      <th>100</th>\n",
       "      <th>100var</th>\n",
       "      <th>200</th>\n",
       "      <th>200var</th>\n",
       "    </tr>\n",
       "  </thead>\n",
       "  <tbody>\n",
       "    <tr>\n",
       "      <th>0</th>\n",
       "      <td>8.380</td>\n",
       "      <td>0.150</td>\n",
       "      <td>8.640</td>\n",
       "      <td>0.310</td>\n",
       "      <td>7.64</td>\n",
       "      <td>0.21</td>\n",
       "      <td>8.33</td>\n",
       "      <td>0.011</td>\n",
       "      <td>7.25</td>\n",
       "      <td>0.014</td>\n",
       "      <td>7.15</td>\n",
       "      <td>0.019</td>\n",
       "    </tr>\n",
       "    <tr>\n",
       "      <th>1</th>\n",
       "      <td>7.970</td>\n",
       "      <td>0.018</td>\n",
       "      <td>8.307</td>\n",
       "      <td>0.062</td>\n",
       "      <td>7.46</td>\n",
       "      <td>0.22</td>\n",
       "      <td>7.88</td>\n",
       "      <td>0.010</td>\n",
       "      <td>6.94</td>\n",
       "      <td>0.134</td>\n",
       "      <td>6.69</td>\n",
       "      <td>0.320</td>\n",
       "    </tr>\n",
       "    <tr>\n",
       "      <th>2</th>\n",
       "      <td>7.939</td>\n",
       "      <td>0.052</td>\n",
       "      <td>8.020</td>\n",
       "      <td>0.120</td>\n",
       "      <td>6.79</td>\n",
       "      <td>0.13</td>\n",
       "      <td>7.43</td>\n",
       "      <td>0.020</td>\n",
       "      <td>6.36</td>\n",
       "      <td>0.093</td>\n",
       "      <td>6.38</td>\n",
       "      <td>0.140</td>\n",
       "    </tr>\n",
       "    <tr>\n",
       "      <th>3</th>\n",
       "      <td>8.890</td>\n",
       "      <td>0.510</td>\n",
       "      <td>8.100</td>\n",
       "      <td>0.100</td>\n",
       "      <td>6.89</td>\n",
       "      <td>0.18</td>\n",
       "      <td>7.45</td>\n",
       "      <td>0.045</td>\n",
       "      <td>6.38</td>\n",
       "      <td>0.210</td>\n",
       "      <td>6.25</td>\n",
       "      <td>0.017</td>\n",
       "    </tr>\n",
       "    <tr>\n",
       "      <th>4</th>\n",
       "      <td>7.860</td>\n",
       "      <td>0.120</td>\n",
       "      <td>7.820</td>\n",
       "      <td>0.130</td>\n",
       "      <td>6.23</td>\n",
       "      <td>0.03</td>\n",
       "      <td>6.97</td>\n",
       "      <td>0.110</td>\n",
       "      <td>6.67</td>\n",
       "      <td>0.230</td>\n",
       "      <td>6.28</td>\n",
       "      <td>0.037</td>\n",
       "    </tr>\n",
       "    <tr>\n",
       "      <th>5</th>\n",
       "      <td>8.100</td>\n",
       "      <td>0.043</td>\n",
       "      <td>7.770</td>\n",
       "      <td>0.094</td>\n",
       "      <td>6.69</td>\n",
       "      <td>0.16</td>\n",
       "      <td>7.73</td>\n",
       "      <td>0.077</td>\n",
       "      <td>6.38</td>\n",
       "      <td>0.090</td>\n",
       "      <td>6.82</td>\n",
       "      <td>0.220</td>\n",
       "    </tr>\n",
       "  </tbody>\n",
       "</table>\n",
       "</div>"
      ],
      "text/plain": [
       "       4   4var      8   8var    16  16var    32  32var   100  100var   200  \\\n",
       "0  8.380  0.150  8.640  0.310  7.64   0.21  8.33  0.011  7.25   0.014  7.15   \n",
       "1  7.970  0.018  8.307  0.062  7.46   0.22  7.88  0.010  6.94   0.134  6.69   \n",
       "2  7.939  0.052  8.020  0.120  6.79   0.13  7.43  0.020  6.36   0.093  6.38   \n",
       "3  8.890  0.510  8.100  0.100  6.89   0.18  7.45  0.045  6.38   0.210  6.25   \n",
       "4  7.860  0.120  7.820  0.130  6.23   0.03  6.97  0.110  6.67   0.230  6.28   \n",
       "5  8.100  0.043  7.770  0.094  6.69   0.16  7.73  0.077  6.38   0.090  6.82   \n",
       "\n",
       "   200var  \n",
       "0   0.019  \n",
       "1   0.320  \n",
       "2   0.140  \n",
       "3   0.017  \n",
       "4   0.037  \n",
       "5   0.220  "
      ]
     },
     "execution_count": 6,
     "metadata": {},
     "output_type": "execute_result"
    }
   ],
   "source": [
    "data"
   ]
  },
  {
   "cell_type": "code",
   "execution_count": 7,
   "metadata": {
    "collapsed": true
   },
   "outputs": [],
   "source": [
    "min_time_err =[0.120,0.094, 0.033, 0.110, 0.093, 0.017 ]"
   ]
  },
  {
   "cell_type": "code",
   "execution_count": 23,
   "metadata": {
    "collapsed": false
   },
   "outputs": [],
   "source": [
    "x = np.array([4,8,16,32,100,200])\n"
   ]
  },
  {
   "cell_type": "code",
   "execution_count": 24,
   "metadata": {
    "collapsed": false
   },
   "outputs": [
    {
     "data": {
      "text/plain": [
       "array([ 2.        ,  3.        ,  4.        ,  5.        ,  6.64385619,\n",
       "        7.64385619])"
      ]
     },
     "execution_count": 24,
     "metadata": {},
     "output_type": "execute_result"
    }
   ],
   "source": [
    "x_log2= np.log2(x)\n",
    "x_log2\n"
   ]
  },
  {
   "cell_type": "code",
   "execution_count": 39,
   "metadata": {
    "collapsed": false
   },
   "outputs": [
    {
     "data": {
      "image/png": "[encoded data removed]",
      "text/plain": [
       "<matplotlib.figure.Figure at 0x116e23790>"
      ]
     },
     "metadata": {},
     "output_type": "display_data"
    }
   ],
   "source": [
    "# Defining the figure and figure size\n",
    "fig, ax = plt.subplots(figsize=(10, 6))\n",
    "\n",
    "# Parameters that are same for both lines,\n",
    "# in the form of a dictionary\n",
    "kwargs = dict(ecolor='k', color='k', capsize=2,\n",
    "              elinewidth=1.1, linewidth=0.6, ms=7)\n",
    "\n",
    "# Plotting two data sets with the error bars\n",
    "ax.errorbar(x_log2, min_time.values, yerr=min_time_err, fmt='-o', mfc='r',ecolor='k', color='k', capsize=2,\n",
    "              elinewidth=1.1, linewidth=0.6, ms=7, label='min')\n",
    "\n",
    "\n",
    "# Adding legend to the plot    \n",
    "ax.legend(loc='best', frameon=True)\n",
    "\n",
    "# Adding plotting parameters\n",
    "ax.set_title('Minimum Execution Time for Different Block Sizes', fontsize=14)\n",
    "ax.set_xlabel('log2(BlockSz)', fontsize=12)\n",
    "ax.set_ylabel('execution time(s)', fontsize=12)\n",
    "ax.set_xlim(0.5, 8)\n",
    "ax.set_ylim(5.5,8.5);\n",
    "\n",
    "plt.savefig(\"block_sz.png\")"
   ]
  },
  {
   "cell_type": "code",
   "execution_count": 38,
   "metadata": {
    "collapsed": false
   },
   "outputs": [
    {
     "data": {
      "text/plain": [
       "array([ 7.86,  7.77,  6.23,  6.97,  6.36,  6.25])"
      ]
     },
     "execution_count": 38,
     "metadata": {},
     "output_type": "execute_result"
    }
   ],
   "source": [
    "min_time.values\n"
   ]
  },
  {
   "cell_type": "code",
   "execution_count": 21,
   "metadata": {
    "collapsed": false
   },
   "outputs": [
    {
     "data": {
      "text/plain": [
       "7"
      ]
     },
     "execution_count": 21,
     "metadata": {},
     "output_type": "execute_result"
    }
   ],
   "source": [
    "len(x_log2)"
   ]
  },
  {
   "cell_type": "code",
   "execution_count": null,
   "metadata": {
    "collapsed": true
   },
   "outputs": [],
   "source": []
  }
 ],
 "metadata": {
  "anaconda-cloud": {},
  "kernelspec": {
   "display_name": "Python 2",
   "language": "python",
   "name": "python2"
  },
  "language_info": {
   "codemirror_mode": {
    "name": "ipython",
    "version": 2
   },
   "file_extension": ".py",
   "mimetype": "text/x-python",
   "name": "python",
   "nbconvert_exporter": "python",
   "pygments_lexer": "ipython2",
   "version": "2.7.12"
  }
 },
 "nbformat": 4,
 "nbformat_minor": 2
}
