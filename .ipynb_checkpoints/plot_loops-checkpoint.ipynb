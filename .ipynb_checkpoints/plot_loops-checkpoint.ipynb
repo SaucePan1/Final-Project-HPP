{
 "cells": [
  {
   "cell_type": "code",
   "execution_count": 1,
   "metadata": {
    "collapsed": false
   },
   "outputs": [
    {
     "ename": "ValueError",
     "evalue": "invalid literal for float(): 4.306\t0.072\t3.83\t0.13\t3.86\t0.067\t3.663\t0.016\t3.772\t0.074\t3.71\t0.19\t3.72\t0.13",
     "output_type": "error",
     "traceback": [
      "\u001b[0;31m---------------------------------------------------------------------------\u001b[0m",
      "\u001b[0;31mValueError\u001b[0m                                Traceback (most recent call last)",
      "\u001b[0;32m<ipython-input-1-c67bfa159850>\u001b[0m in \u001b[0;36m<module>\u001b[0;34m()\u001b[0m\n\u001b[1;32m      7\u001b[0m \u001b[0;34m\u001b[0m\u001b[0m\n\u001b[1;32m      8\u001b[0m \u001b[0;34m\u001b[0m\u001b[0m\n\u001b[0;32m----> 9\u001b[0;31m \u001b[0mtime\u001b[0m \u001b[0;34m=\u001b[0m \u001b[0mnp\u001b[0m\u001b[0;34m.\u001b[0m\u001b[0mloadtxt\u001b[0m\u001b[0;34m(\u001b[0m\u001b[0;34m\"loop_data.txt\"\u001b[0m\u001b[0;34m,\u001b[0m \u001b[0mdelimiter\u001b[0m\u001b[0;34m=\u001b[0m\u001b[0;34m\" \"\u001b[0m\u001b[0;34m)\u001b[0m\u001b[0;34m\u001b[0m\u001b[0m\n\u001b[0m",
      "\u001b[0;32m//anaconda/lib/python2.7/site-packages/numpy/lib/npyio.pyc\u001b[0m in \u001b[0;36mloadtxt\u001b[0;34m(fname, dtype, comments, delimiter, converters, skiprows, usecols, unpack, ndmin)\u001b[0m\n\u001b[1;32m    983\u001b[0m \u001b[0;34m\u001b[0m\u001b[0m\n\u001b[1;32m    984\u001b[0m             \u001b[0;31m# Convert each value according to its column and store\u001b[0m\u001b[0;34m\u001b[0m\u001b[0;34m\u001b[0m\u001b[0m\n\u001b[0;32m--> 985\u001b[0;31m             \u001b[0mitems\u001b[0m \u001b[0;34m=\u001b[0m \u001b[0;34m[\u001b[0m\u001b[0mconv\u001b[0m\u001b[0;34m(\u001b[0m\u001b[0mval\u001b[0m\u001b[0;34m)\u001b[0m \u001b[0;32mfor\u001b[0m \u001b[0;34m(\u001b[0m\u001b[0mconv\u001b[0m\u001b[0;34m,\u001b[0m \u001b[0mval\u001b[0m\u001b[0;34m)\u001b[0m \u001b[0;32min\u001b[0m \u001b[0mzip\u001b[0m\u001b[0;34m(\u001b[0m\u001b[0mconverters\u001b[0m\u001b[0;34m,\u001b[0m \u001b[0mvals\u001b[0m\u001b[0;34m)\u001b[0m\u001b[0;34m]\u001b[0m\u001b[0;34m\u001b[0m\u001b[0m\n\u001b[0m\u001b[1;32m    986\u001b[0m             \u001b[0;31m# Then pack it according to the dtype's nesting\u001b[0m\u001b[0;34m\u001b[0m\u001b[0;34m\u001b[0m\u001b[0m\n\u001b[1;32m    987\u001b[0m             \u001b[0mitems\u001b[0m \u001b[0;34m=\u001b[0m \u001b[0mpack_items\u001b[0m\u001b[0;34m(\u001b[0m\u001b[0mitems\u001b[0m\u001b[0;34m,\u001b[0m \u001b[0mpacking\u001b[0m\u001b[0;34m)\u001b[0m\u001b[0;34m\u001b[0m\u001b[0m\n",
      "\u001b[0;32m//anaconda/lib/python2.7/site-packages/numpy/lib/npyio.pyc\u001b[0m in \u001b[0;36mfloatconv\u001b[0;34m(x)\u001b[0m\n\u001b[1;32m    685\u001b[0m         \u001b[0;32mif\u001b[0m \u001b[0;34mb'0x'\u001b[0m \u001b[0;32min\u001b[0m \u001b[0mx\u001b[0m\u001b[0;34m:\u001b[0m\u001b[0;34m\u001b[0m\u001b[0m\n\u001b[1;32m    686\u001b[0m             \u001b[0;32mreturn\u001b[0m \u001b[0mfloat\u001b[0m\u001b[0;34m.\u001b[0m\u001b[0mfromhex\u001b[0m\u001b[0;34m(\u001b[0m\u001b[0masstr\u001b[0m\u001b[0;34m(\u001b[0m\u001b[0mx\u001b[0m\u001b[0;34m)\u001b[0m\u001b[0;34m)\u001b[0m\u001b[0;34m\u001b[0m\u001b[0m\n\u001b[0;32m--> 687\u001b[0;31m         \u001b[0;32mreturn\u001b[0m \u001b[0mfloat\u001b[0m\u001b[0;34m(\u001b[0m\u001b[0mx\u001b[0m\u001b[0;34m)\u001b[0m\u001b[0;34m\u001b[0m\u001b[0m\n\u001b[0m\u001b[1;32m    688\u001b[0m \u001b[0;34m\u001b[0m\u001b[0m\n\u001b[1;32m    689\u001b[0m     \u001b[0mtyp\u001b[0m \u001b[0;34m=\u001b[0m \u001b[0mdtype\u001b[0m\u001b[0;34m.\u001b[0m\u001b[0mtype\u001b[0m\u001b[0;34m\u001b[0m\u001b[0m\n",
      "\u001b[0;31mValueError\u001b[0m: invalid literal for float(): 4.306\t0.072\t3.83\t0.13\t3.86\t0.067\t3.663\t0.016\t3.772\t0.074\t3.71\t0.19\t3.72\t0.13"
     ]
    }
   ],
   "source": [
    "import numpy as np\n",
    "import pandas as pd\n",
    "import matplotlib.pyplot as plt\n",
    "import seaborn as sns\n",
    "sns.set()\n",
    "sns.set_style('whitegrid')\n",
    "\n",
    "\n"
   ]
  },
  {
   "cell_type": "code",
   "execution_count": 2,
   "metadata": {
    "collapsed": false
   },
   "outputs": [],
   "source": [
    "data =pd.read_csv(\"loop_data.txt\", sep=\"\\t\")\n"
   ]
  },
  {
   "cell_type": "code",
   "execution_count": 6,
   "metadata": {
    "collapsed": false
   },
   "outputs": [],
   "source": [
    "data.columns = [1.1, 1.2, 2.1, 2.2, 3.1, 3.2, 4.1, 4.2 , 5.1, 5.2, 6.1, 6.2 ,7.1, 7.2]"
   ]
  },
  {
   "cell_type": "code",
   "execution_count": 7,
   "metadata": {
    "collapsed": false
   },
   "outputs": [
    {
     "data": {
      "text/html": [
       "<div>\n",
       "<table border=\"1\" class=\"dataframe\">\n",
       "  <thead>\n",
       "    <tr style=\"text-align: right;\">\n",
       "      <th></th>\n",
       "      <th>1.1</th>\n",
       "      <th>1.2</th>\n",
       "      <th>2.1</th>\n",
       "      <th>2.2</th>\n",
       "      <th>3.1</th>\n",
       "      <th>3.2</th>\n",
       "      <th>4.1</th>\n",
       "      <th>4.2</th>\n",
       "      <th>5.1</th>\n",
       "      <th>5.2</th>\n",
       "      <th>6.1</th>\n",
       "      <th>6.2</th>\n",
       "      <th>7.1</th>\n",
       "      <th>7.2</th>\n",
       "    </tr>\n",
       "  </thead>\n",
       "  <tbody>\n",
       "    <tr>\n",
       "      <th>0</th>\n",
       "      <td>4.050</td>\n",
       "      <td>0.100</td>\n",
       "      <td>3.680</td>\n",
       "      <td>0.150</td>\n",
       "      <td>3.590</td>\n",
       "      <td>0.059</td>\n",
       "      <td>3.3850</td>\n",
       "      <td>0.0310</td>\n",
       "      <td>3.532</td>\n",
       "      <td>0.0430</td>\n",
       "      <td>3.397</td>\n",
       "      <td>0.032</td>\n",
       "      <td>3.402</td>\n",
       "      <td>0.048</td>\n",
       "    </tr>\n",
       "    <tr>\n",
       "      <th>1</th>\n",
       "      <td>4.082</td>\n",
       "      <td>0.068</td>\n",
       "      <td>3.900</td>\n",
       "      <td>0.260</td>\n",
       "      <td>3.640</td>\n",
       "      <td>0.055</td>\n",
       "      <td>3.3844</td>\n",
       "      <td>0.0089</td>\n",
       "      <td>3.564</td>\n",
       "      <td>0.0097</td>\n",
       "      <td>3.390</td>\n",
       "      <td>0.034</td>\n",
       "      <td>3.420</td>\n",
       "      <td>0.016</td>\n",
       "    </tr>\n",
       "    <tr>\n",
       "      <th>2</th>\n",
       "      <td>4.350</td>\n",
       "      <td>0.150</td>\n",
       "      <td>3.650</td>\n",
       "      <td>0.035</td>\n",
       "      <td>3.650</td>\n",
       "      <td>0.015</td>\n",
       "      <td>3.5690</td>\n",
       "      <td>0.1100</td>\n",
       "      <td>3.599</td>\n",
       "      <td>0.0780</td>\n",
       "      <td>3.350</td>\n",
       "      <td>0.036</td>\n",
       "      <td>3.430</td>\n",
       "      <td>0.020</td>\n",
       "    </tr>\n",
       "    <tr>\n",
       "      <th>3</th>\n",
       "      <td>4.086</td>\n",
       "      <td>0.026</td>\n",
       "      <td>3.820</td>\n",
       "      <td>0.068</td>\n",
       "      <td>3.623</td>\n",
       "      <td>0.044</td>\n",
       "      <td>3.5110</td>\n",
       "      <td>0.0320</td>\n",
       "      <td>3.554</td>\n",
       "      <td>0.0240</td>\n",
       "      <td>3.410</td>\n",
       "      <td>0.026</td>\n",
       "      <td>3.418</td>\n",
       "      <td>0.018</td>\n",
       "    </tr>\n",
       "    <tr>\n",
       "      <th>4</th>\n",
       "      <td>4.250</td>\n",
       "      <td>0.100</td>\n",
       "      <td>3.721</td>\n",
       "      <td>0.100</td>\n",
       "      <td>3.613</td>\n",
       "      <td>0.041</td>\n",
       "      <td>3.5090</td>\n",
       "      <td>0.0280</td>\n",
       "      <td>3.554</td>\n",
       "      <td>0.0360</td>\n",
       "      <td>3.430</td>\n",
       "      <td>0.019</td>\n",
       "      <td>3.390</td>\n",
       "      <td>0.014</td>\n",
       "    </tr>\n",
       "  </tbody>\n",
       "</table>\n",
       "</div>"
      ],
      "text/plain": [
       "     1.1    1.2    2.1    2.2    3.1    3.2     4.1     4.2    5.1     5.2  \\\n",
       "0  4.050  0.100  3.680  0.150  3.590  0.059  3.3850  0.0310  3.532  0.0430   \n",
       "1  4.082  0.068  3.900  0.260  3.640  0.055  3.3844  0.0089  3.564  0.0097   \n",
       "2  4.350  0.150  3.650  0.035  3.650  0.015  3.5690  0.1100  3.599  0.0780   \n",
       "3  4.086  0.026  3.820  0.068  3.623  0.044  3.5110  0.0320  3.554  0.0240   \n",
       "4  4.250  0.100  3.721  0.100  3.613  0.041  3.5090  0.0280  3.554  0.0360   \n",
       "\n",
       "     6.1    6.2    7.1    7.2  \n",
       "0  3.397  0.032  3.402  0.048  \n",
       "1  3.390  0.034  3.420  0.016  \n",
       "2  3.350  0.036  3.430  0.020  \n",
       "3  3.410  0.026  3.418  0.018  \n",
       "4  3.430  0.019  3.390  0.014  "
      ]
     },
     "execution_count": 7,
     "metadata": {},
     "output_type": "execute_result"
    }
   ],
   "source": [
    "data"
   ]
  },
  {
   "cell_type": "code",
   "execution_count": 13,
   "metadata": {
    "collapsed": false
   },
   "outputs": [],
   "source": [
    "data_mean = data[[1.1, 2.1, 3.1, 4.1, 5.1, 6.1, 7.1]]\n",
    "data_var = data[[1.2, 2.2, 3.2, 4.2, 5.2, 6.2, 7.2]]\n",
    "\n",
    "X= [1,2,3,4,5,6,7]\n"
   ]
  },
  {
   "cell_type": "code",
   "execution_count": 20,
   "metadata": {
    "collapsed": false
   },
   "outputs": [],
   "source": [
    "O1 = data_mean.loc[0]\n",
    "O1_err = data_var.loc[0]\n",
    "O2 = data_mean.loc[1]\n",
    "O2_err = data_var.loc[1]\n",
    "O3 = data_mean.loc[2]\n",
    "O3_err = data_var.loc[2]\n",
    "O3math = data_mean.loc[3]\n",
    "O3math_err = data_var.loc[3]\n",
    "O3native = data_mean.loc[4]\n",
    "Onative_err = data_var.loc[4]"
   ]
  },
  {
   "cell_type": "code",
   "execution_count": 26,
   "metadata": {
    "collapsed": false
   },
   "outputs": [],
   "source": [
    "%matplotlib inline"
   ]
  },
  {
   "cell_type": "code",
   "execution_count": 30,
   "metadata": {
    "collapsed": false
   },
   "outputs": [
    {
     "data": {
      "image/png": "[encoded data removed]",
      "text/plain": [
       "<matplotlib.figure.Figure at 0x115f52fd0>"
      ]
     },
     "metadata": {},
     "output_type": "display_data"
    }
   ],
   "source": [
    "# Defining the figure and figure size\n",
    "fig, ax = plt.subplots(figsize=(10, 6))\n",
    "\n",
    "# Parameters that are same for both lines,\n",
    "# in the form of a dictionary\n",
    "kwargs = dict(ecolor='k', color='k', capsize=2,\n",
    "              elinewidth=1.1, linewidth=0.6, ms=7)\n",
    "\n",
    "# Plotting two data sets with the error bars\n",
    "ax.errorbar(X, O1, yerr=O1_err, fmt='-o', mfc='r', label='Trial 1')\n",
    "ax.errorbar(X, O2, yerr=O2_err, fmt='-^', mfc='steelblue', label='Trial 2')\n",
    "\n",
    "# Adding legend to the plot    \n",
    "ax.legend(loc='best', frameon=True)\n",
    "\n",
    "# Adding plotting parameters\n",
    "ax.set_title('Unroll factor for different flags', fontsize=14)\n",
    "ax.set_xlabel('unroll factor', fontsize=12)\n",
    "ax.set_ylabel('time', fontsize=12)\n",
    "ax.set_xlim(0.5, 7.5)\n",
    "ax.set_ylim(3, 5);"
   ]
  },
  {
   "cell_type": "code",
   "execution_count": null,
   "metadata": {
    "collapsed": true
   },
   "outputs": [],
   "source": []
  },
  {
   "cell_type": "code",
   "execution_count": null,
   "metadata": {
    "collapsed": true
   },
   "outputs": [],
   "source": []
  }
 ],
 "metadata": {
  "anaconda-cloud": {},
  "kernelspec": {
   "display_name": "Python 2",
   "language": "python",
   "name": "python2"
  },
  "language_info": {
   "codemirror_mode": {
    "name": "ipython",
    "version": 2
   },
   "file_extension": ".py",
   "mimetype": "text/x-python",
   "name": "python",
   "nbconvert_exporter": "python",
   "pygments_lexer": "ipython2",
   "version": "2.7.12"
  }
 },
 "nbformat": 4,
 "nbformat_minor": 2
}
